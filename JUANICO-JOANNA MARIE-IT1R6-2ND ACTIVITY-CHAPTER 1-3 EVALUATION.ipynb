{
 "cells": [
  {
   "cell_type": "code",
   "execution_count": 38,
   "id": "clear-plasma",
   "metadata": {},
   "outputs": [
    {
     "name": "stdout",
     "output_type": "stream",
     "text": [
      "Discuss your learnings on Chapter 1  time-frame 8:00 - 30:35. Minimum of 200 characters\n",
      "\n",
      "I learned that it is important to know the proper ways in structuring data to avoid slow and unorganized data\n",
      "I learned that it is necessary to shorten the time execution as short as possible and not exceed to 5 seconds\n",
      "I learned that it is important to know that basic terminology to have knowledge in programming\n",
      "I learned that an algorithm should be clear and unambiguous to be convenient\n",
      "An algorithm should be independent even using other languages\n",
      "The problem should be specific\n",
      "When constructing an algorithm it should be well-defined\n"
     ]
    }
   ],
   "source": [
    "print(\"Discuss your learnings on Chapter 1  time-frame 8:00 - 30:35. Minimum of 200 characters\\n\")\n",
    "\n",
    "print(\"I learned that it is important to know the proper ways in structuring data to avoid slow and unorganized data\")\n",
    "print(\"I learned that it is necessary to shorten the time execution as short as possible and not exceed to 5 seconds\")\n",
    "print(\"I learned that it is important to know that basic terminology to have knowledge in programming\")\n",
    "print(\"I learned that an algorithm should be clear and unambiguous to be convenient\")\n",
    "print(\"An algorithm should be independent even using other languages\")\n",
    "print(\"The problem should be specific\")\n",
    "print(\"When constructing an algorithm it should be well-defined\")"
   ]
  },
  {
   "cell_type": "code",
   "execution_count": 37,
   "id": "noble-trance",
   "metadata": {},
   "outputs": [
    {
     "name": "stdout",
     "output_type": "stream",
     "text": [
      "Discuss your learnings on Chapter 1  time-frame 35:00 - end. Minimum of 200 characters\n",
      "\n",
      "I learned that it is dominant to have knowledge in Algorithm to have an easy, organized and convenient program\n",
      "I learned that the numbers should be finite and not infinite\n",
      "When creating an algorithm it is not necessary to not include step1, step2 procedure as long as it is clear\n",
      "It is important to have a precise and clear step procedure to avoid confusion\n",
      "I learned that it is also good that the processor speed would not be touched\n",
      "It is important to consider the time and space in executing a program\n"
     ]
    }
   ],
   "source": [
    "print(\"Discuss your learnings on Chapter 1  time-frame 35:00 - end. Minimum of 200 characters\\n\")\n",
    "\n",
    "print(\"I learned that it is dominant to have knowledge in Algorithm to have an easy, organized and convenient program\")\n",
    "print(\"I learned that the numbers should be finite and not infinite\")\n",
    "print(\"When creating an algorithm it is not necessary to not include step1, step2 procedure as long as it is clear\")\n",
    "print(\"It is important to have a precise and clear step procedure to avoid confusion\")\n",
    "print(\"I learned that it is also good that the processor speed would not be touched\")\n",
    "print(\"It is important to consider the time and space in executing a program\")"
   ]
  },
  {
   "cell_type": "code",
   "execution_count": 36,
   "id": "opposed-tactics",
   "metadata": {},
   "outputs": [
    {
     "name": "stdout",
     "output_type": "stream",
     "text": [
      "Discuss your learnings on Chapter 2  time-frame 5:00 - 9:00. Minimum of 200 characters\n",
      "\n",
      "I learned that a data should be defined in a single concept and should be traceable\n",
      "The data should be understandable and concise\n",
      "I learned that when using data type, it should be clearly classified \n",
      "I learned that it is important to know the basic operations to help me execute a program\n",
      "I learned that when there is no operation of data, nothing will happen\n",
      "I learned that the searching operation should be understandable and sorted correspondingly\n"
     ]
    }
   ],
   "source": [
    "print(\"Discuss your learnings on Chapter 2  time-frame 5:00 - 9:00. Minimum of 200 characters\\n\")\n",
    "\n",
    "print(\"I learned that a data should be defined in a single concept and should be traceable\")\n",
    "print(\"The data should be understandable and concise\")\n",
    "print(\"I learned that when using data type, it should be clearly classified \")\n",
    "print(\"I learned that it is important to know the basic operations to help me execute a program\")\n",
    "print(\"I learned that when there is no operation of data, nothing will happen\")\n",
    "print(\"I learned that the searching operation should be understandable and sorted correspondingly\")"
   ]
  },
  {
   "cell_type": "code",
   "execution_count": 35,
   "id": "japanese-transport",
   "metadata": {},
   "outputs": [
    {
     "name": "stdout",
     "output_type": "stream",
     "text": [
      "Discuss your learnings on Chapter 3  time-frame 3:00 - 18:00. Minimum of 200 characters\n",
      "\n",
      "I learned that an array can store to elements and an index always starts from 0\n",
      "I learned that it is important to include the basic operations in programming\n",
      "I learned that it is necessary to know what are the typcodes\n",
      "I learned that each typecodes has different sizes of bytes\n",
      "To avoid wasting time in assigning values, using an array will help it shorten\n"
     ]
    }
   ],
   "source": [
    "print(\"Discuss your learnings on Chapter 3  time-frame 3:00 - 18:00. Minimum of 200 characters\\n\")\n",
    "\n",
    "print(\"I learned that an array can store to elements and an index always starts from 0\")\n",
    "print(\"I learned that it is important to include the basic operations in programming\")\n",
    "print(\"I learned that it is necessary to know what are the typcodes\")\n",
    "print(\"I learned that each typecodes has different sizes of bytes\")\n",
    "print(\"To avoid wasting time in assigning values, using an array will help it shorten\")"
   ]
  },
  {
   "cell_type": "code",
   "execution_count": 34,
   "id": "early-mailman",
   "metadata": {},
   "outputs": [
    {
     "name": "stdout",
     "output_type": "stream",
     "text": [
      "26\n",
      "26\n",
      "7\n",
      "1\n",
      "40\n",
      "2\n"
     ]
    }
   ],
   "source": [
    "from array import *\n",
    "arrayNumber = array('I',[11,26,15,7,1,40])\n",
    "arrayNumber.insert(2021,2)\n",
    "arrayNumber.remove(11)\n",
    "arrayNumber[1]=26\n",
    "for x in arrayNumber:\n",
    "    print(x)"
   ]
  }
 ],
 "metadata": {
  "kernelspec": {
   "display_name": "Python 3",
   "language": "python",
   "name": "python3"
  },
  "language_info": {
   "codemirror_mode": {
    "name": "ipython",
    "version": 3
   },
   "file_extension": ".py",
   "mimetype": "text/x-python",
   "name": "python",
   "nbconvert_exporter": "python",
   "pygments_lexer": "ipython3",
   "version": "3.9.2"
  }
 },
 "nbformat": 4,
 "nbformat_minor": 5
}
